{
 "cells": [
  {
   "cell_type": "markdown",
   "id": "f658b7d2-759a-43f9-8fbd-f45640c9e98d",
   "metadata": {},
   "source": [
    "## Project 1\n",
    "__Project__\n",
    "course material link\n",
    "https://www.tfcertification.com/pages/deep-learning-and-machine-learning-practical-workout\n",
    "\n",
    "lets start :)\n"
   ]
  },
  {
   "cell_type": "markdown",
   "id": "8e61c62b-381c-4ee8-aa7c-2307fd466964",
   "metadata": {},
   "source": [
    "__Problem statment__\n",
    "\n",
    "you are working as a car salesman and you would like to develop amodel to predict thet total dollar amount that cutomenrs are willing to pay given the following attributed:\n",
    "* cutomer Name\n",
    "* Cutomer e-mial\n",
    "* Country\n",
    "* Gender\n",
    "* Age\n",
    "* Annual Salary\n",
    "* Credit Card Debt\n",
    "* Net Worth\n",
    "  \n",
    "The model should predict :\n",
    "1. car Purchase Amount\n",
    "2. \n"
   ]
  },
  {
   "cell_type": "code",
   "execution_count": null,
   "id": "fbb68d29-41f4-4f83-8a04-171003a7483d",
   "metadata": {},
   "outputs": [],
   "source": []
  },
  {
   "cell_type": "markdown",
   "id": "3749ae20-cf38-4179-8561-5a54d3be5ee4",
   "metadata": {},
   "source": [
    "## Importing the libraries"
   ]
  },
  {
   "cell_type": "code",
   "execution_count": 1,
   "id": "f499569a-bdb0-4d3a-95ae-445b5e053f76",
   "metadata": {},
   "outputs": [
    {
     "ename": "ModuleNotFoundError",
     "evalue": "No module named 'pandas'",
     "output_type": "error",
     "traceback": [
      "\u001b[1;31m--------------------------------------------------------------------\u001b[0m",
      "\u001b[1;31mModuleNotFoundError\u001b[0m                Traceback (most recent call last)",
      "Cell \u001b[1;32mIn[1], line 1\u001b[0m\n\u001b[1;32m----> 1\u001b[0m \u001b[38;5;28;01mimport\u001b[39;00m \u001b[38;5;21;01mpandas\u001b[39;00m \u001b[38;5;28;01mas\u001b[39;00m \u001b[38;5;21;01mpd\u001b[39;00m\n\u001b[0;32m      2\u001b[0m \u001b[38;5;28;01mimport\u001b[39;00m \u001b[38;5;21;01mnumpy\u001b[39;00m \u001b[38;5;28;01mas\u001b[39;00m \u001b[38;5;21;01mnp\u001b[39;00m\n\u001b[0;32m      3\u001b[0m \u001b[38;5;28;01mimport\u001b[39;00m \u001b[38;5;21;01mmatplotlib\u001b[39;00m\u001b[38;5;21;01m.\u001b[39;00m\u001b[38;5;21;01mpyplot\u001b[39;00m \u001b[38;5;28;01mas\u001b[39;00m \u001b[38;5;21;01mplt\u001b[39;00m\n",
      "\u001b[1;31mModuleNotFoundError\u001b[0m: No module named 'pandas'"
     ]
    }
   ],
   "source": [
    "import pandas as pd\n",
    "import numpy as np\n",
    "import matplotlib.pyplot as plt\n",
    "import seaborn as sns\n"
   ]
  },
  {
   "cell_type": "code",
   "execution_count": null,
   "id": "82f67e25-b0e4-414a-83d6-a61de200a981",
   "metadata": {},
   "outputs": [],
   "source": [
    "# //import the dataset\n",
    "car_df=pd.read_csv('Car_Purchasing_Data.csv',encoding='ISO-8859-1')\n"
   ]
  },
  {
   "cell_type": "code",
   "execution_count": null,
   "id": "335ab57c-8786-477e-8534-26590498e197",
   "metadata": {},
   "outputs": [],
   "source": [
    "car_df.head(10)"
   ]
  },
  {
   "cell_type": "code",
   "execution_count": null,
   "id": "2fcb08c2-f46e-47db-8a4c-a09c065472dc",
   "metadata": {},
   "outputs": [],
   "source": [
    "car_df.tail(10)"
   ]
  },
  {
   "cell_type": "code",
   "execution_count": null,
   "id": "955354c5-fae1-4cd0-b318-f2ba8d935e02",
   "metadata": {},
   "outputs": [],
   "source": [
    "sns.pairplot(car_df)"
   ]
  },
  {
   "cell_type": "markdown",
   "id": "c4f8c8dc-4574-4982-987f-14e6d2be9361",
   "metadata": {},
   "source": [
    "### Cleaning the dataset ..dropping name and email"
   ]
  },
  {
   "cell_type": "code",
   "execution_count": null,
   "id": "48fe883b-67b4-4b3d-ae48-ebed9e03e27b",
   "metadata": {},
   "outputs": [],
   "source": [
    "X=car_df.drop(['Customer Name','Customer e-mail','Country','Car Purchase Amount'],axis=1)"
   ]
  },
  {
   "cell_type": "code",
   "execution_count": null,
   "id": "c3ffe5bd-4167-4211-804a-c62e5ea62cf2",
   "metadata": {},
   "outputs": [],
   "source": [
    "X"
   ]
  },
  {
   "cell_type": "code",
   "execution_count": null,
   "id": "32b3b87c-afd4-447a-9227-56aa5f130812",
   "metadata": {},
   "outputs": [],
   "source": [
    " y=car_df['Car Purchase Amount']"
   ]
  },
  {
   "cell_type": "code",
   "execution_count": null,
   "id": "3d02c2f7-8683-44df-a021-b71b1063e9b2",
   "metadata": {},
   "outputs": [],
   "source": [
    "y"
   ]
  },
  {
   "cell_type": "code",
   "execution_count": null,
   "id": "9fa7c3a2-24fe-4051-90f5-d8bf47754e30",
   "metadata": {},
   "outputs": [],
   "source": [
    "X.shape\n"
   ]
  },
  {
   "cell_type": "code",
   "execution_count": null,
   "id": "35877039-3f32-468e-9352-f0071f545f7b",
   "metadata": {},
   "outputs": [],
   "source": [
    "y.shape"
   ]
  },
  {
   "cell_type": "markdown",
   "id": "1296c025-74d3-4298-a5b2-67c108ceff19",
   "metadata": {},
   "source": [
    "__normalizzing the data for beter plotting it :()__"
   ]
  },
  {
   "cell_type": "code",
   "execution_count": null,
   "id": "3786f756-20a6-46bb-89a8-4c6b3612dc85",
   "metadata": {},
   "outputs": [],
   "source": [
    "from sklearn.preprocessing import MinMaxScaler\n",
    "scaler=MinMaxScaler()\n",
    "X_scaled=scaler.fit_transform(X)\n"
   ]
  },
  {
   "cell_type": "code",
   "execution_count": null,
   "id": "b77279a0-a72f-4e1e-97b6-790eb7fab2e7",
   "metadata": {},
   "outputs": [],
   "source": [
    "X_scaled"
   ]
  },
  {
   "cell_type": "code",
   "execution_count": null,
   "id": "c42cb4b4-a747-4e3e-bd35-f2e0f2ae36c7",
   "metadata": {},
   "outputs": [],
   "source": [
    "scaler.data_max_"
   ]
  },
  {
   "cell_type": "code",
   "execution_count": null,
   "id": "0b05134d-cf9a-4ed8-a8bf-0c8d740513bb",
   "metadata": {},
   "outputs": [],
   "source": [
    "scaler.data_min_"
   ]
  },
  {
   "cell_type": "code",
   "execution_count": null,
   "id": "4237bcb6-19e8-4801-b284-85f7633f80d6",
   "metadata": {},
   "outputs": [],
   "source": [
    "y=y.values.reshape(-1,1)\n",
    "y_scaled=scaler.fit_transform(y)\n"
   ]
  },
  {
   "cell_type": "code",
   "execution_count": null,
   "id": "6b0c92c0-7613-4df9-9200-96c5572baca7",
   "metadata": {},
   "outputs": [],
   "source": [
    "y.shape\n"
   ]
  },
  {
   "cell_type": "code",
   "execution_count": null,
   "id": "cb497edf-b2c0-4f62-b98a-a8830b07ae07",
   "metadata": {},
   "outputs": [],
   "source": [
    "y_scaled"
   ]
  },
  {
   "cell_type": "markdown",
   "id": "3e1174f7-7434-4da1-8622-527b71d272fb",
   "metadata": {},
   "source": [
    "## Training the model"
   ]
  },
  {
   "cell_type": "code",
   "execution_count": null,
   "id": "2015f797-8452-4249-b668-8e0bad3195e9",
   "metadata": {},
   "outputs": [],
   "source": [
    "X_scaled.shape"
   ]
  },
  {
   "cell_type": "code",
   "execution_count": null,
   "id": "57247bb5-d5c2-4067-a5cd-73af16d09202",
   "metadata": {},
   "outputs": [],
   "source": [
    "from sklearn.model_selection import train_test_split\n",
    "X_train,X_test,y_train,y_test=train_test_split(X_scaled,y_scaled,test_size=0.25)\n",
    "\n",
    "# set the test dataset size to 30% using 0.3"
   ]
  },
  {
   "cell_type": "code",
   "execution_count": null,
   "id": "9b0763f2-dcc8-4f31-8c38-65c484623d4c",
   "metadata": {},
   "outputs": [],
   "source": [
    "X_train.shape"
   ]
  },
  {
   "cell_type": "code",
   "execution_count": null,
   "id": "138c6033-e0c8-498c-916e-09f20e568bf9",
   "metadata": {},
   "outputs": [],
   "source": [
    "X_test.shape"
   ]
  },
  {
   "cell_type": "code",
   "execution_count": null,
   "id": "54f75c9f-0e2c-47e3-a8c2-41152244a237",
   "metadata": {},
   "outputs": [],
   "source": [
    "import tensorflow.keras\n",
    "from keras.models import Sequential \n",
    "from keras.layers import Dense\n",
    "\n",
    "model=Sequential()\n",
    "model.add(Dense(40,input_dim=5,activation='relu'))\n",
    "model.add(Dense(40,activation='relu'))\n",
    "\n",
    "model.add(Dense(1,activation='linear'))\n"
   ]
  },
  {
   "cell_type": "code",
   "execution_count": null,
   "id": "d5831254-56d1-4b05-a125-6f5d3243d96c",
   "metadata": {},
   "outputs": [],
   "source": [
    "model.summary()"
   ]
  },
  {
   "cell_type": "code",
   "execution_count": null,
   "id": "4d96fe29-1803-42e4-b6a0-2f2bac74147d",
   "metadata": {},
   "outputs": [],
   "source": [
    "model.compile(optimizer='adam',loss='mean_squared_error')"
   ]
  },
  {
   "cell_type": "code",
   "execution_count": null,
   "id": "25e220b9-ad48-4e2b-a2d9-b5bce29c260e",
   "metadata": {},
   "outputs": [],
   "source": [
    "epochs_hist=model.fit(X_train,y_train,epochs=100,batch_size=50,verbose=1,validation_split=0.2)"
   ]
  },
  {
   "cell_type": "code",
   "execution_count": null,
   "id": "6bd91b8b-0683-4553-ae47-b998f2de5b9d",
   "metadata": {},
   "outputs": [],
   "source": []
  },
  {
   "cell_type": "markdown",
   "id": "f81fc543-8928-4e35-a1db-98069f13ab9f",
   "metadata": {},
   "source": [
    "## evaluating the model"
   ]
  },
  {
   "cell_type": "code",
   "execution_count": null,
   "id": "1c29623a-fc52-4f9c-b786-d75a4cbf6a0b",
   "metadata": {},
   "outputs": [],
   "source": [
    "epochs_hist.history.keys()"
   ]
  },
  {
   "cell_type": "code",
   "execution_count": null,
   "id": "48992fee-6003-471a-ad30-43ed64535783",
   "metadata": {},
   "outputs": [],
   "source": [
    "plt.plot(epochs_hist.history['loss'])\n",
    "plt.plot(epochs_hist.history['val_loss'])\n",
    "plt.title('Model Loss Progress During Training')\n",
    "plt.ylabel('Training and Validation Loss')\n",
    "plt.xlabel('Epoch number')\n",
    "plt.legend(['Training Loss','Validation loss'])"
   ]
  },
  {
   "cell_type": "code",
   "execution_count": null,
   "id": "f6b46c8b-58f4-4fb5-a511-6d25205d8572",
   "metadata": {},
   "outputs": [],
   "source": [
    "#Gender,Ager,AnnualSlary,Credit Card Debt,Net Worth\n",
    "X_test=np.array([[1,43,53798,11160,638467]])\n",
    "\n",
    "y_predict=model.predict(X_test)"
   ]
  },
  {
   "cell_type": "code",
   "execution_count": null,
   "id": "695c925d-2565-4708-a4c6-dc0ea4ec4b9d",
   "metadata": {},
   "outputs": [],
   "source": [
    "print(\"Expected Purchase Amount\",y_predict)"
   ]
  },
  {
   "cell_type": "code",
   "execution_count": null,
   "id": "5e7ff853-2007-4644-9d6e-03134a569dd9",
   "metadata": {},
   "outputs": [],
   "source": []
  }
 ],
 "metadata": {
  "kernelspec": {
   "display_name": "Python 3 (ipykernel)",
   "language": "python",
   "name": "python3"
  },
  "language_info": {
   "codemirror_mode": {
    "name": "ipython",
    "version": 3
   },
   "file_extension": ".py",
   "mimetype": "text/x-python",
   "name": "python",
   "nbconvert_exporter": "python",
   "pygments_lexer": "ipython3",
   "version": "3.12.4"
  }
 },
 "nbformat": 4,
 "nbformat_minor": 5
}
